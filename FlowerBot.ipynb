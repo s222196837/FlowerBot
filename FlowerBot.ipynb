{
 "cells": [
  {
   "cell_type": "markdown",
   "id": "cee6e721",
   "metadata": {},
   "source": [
    "# FlowerBot - Custom Vision Model Training and Deployment"
   ]
  },
  {
   "cell_type": "markdown",
   "id": "674ff3c8",
   "metadata": {},
   "source": [
    "#### Ensure Azure Custom Vision python SDK is installed"
   ]
  },
  {
   "cell_type": "code",
   "execution_count": 7,
   "id": "edca5cdf",
   "metadata": {},
   "outputs": [
    {
     "name": "stdout",
     "output_type": "stream",
     "text": [
      "Requirement already satisfied: azure-cognitiveservices-vision-customvision in /opt/homebrew/Caskroom/miniforge/base/lib/python3.10/site-packages (3.1.0)\r\n",
      "Requirement already satisfied: msrest>=0.5.0 in /opt/homebrew/Caskroom/miniforge/base/lib/python3.10/site-packages (from azure-cognitiveservices-vision-customvision) (0.6.21)\r\n",
      "Requirement already satisfied: azure-common~=1.1 in /opt/homebrew/Caskroom/miniforge/base/lib/python3.10/site-packages (from azure-cognitiveservices-vision-customvision) (1.1.28)\r\n",
      "Requirement already satisfied: certifi>=2017.4.17 in /opt/homebrew/Caskroom/miniforge/base/lib/python3.10/site-packages (from msrest>=0.5.0->azure-cognitiveservices-vision-customvision) (2022.12.7)\r\n",
      "Requirement already satisfied: requests-oauthlib>=0.5.0 in /opt/homebrew/Caskroom/miniforge/base/lib/python3.10/site-packages (from msrest>=0.5.0->azure-cognitiveservices-vision-customvision) (1.3.1)\r\n",
      "Requirement already satisfied: isodate>=0.6.0 in /opt/homebrew/Caskroom/miniforge/base/lib/python3.10/site-packages (from msrest>=0.5.0->azure-cognitiveservices-vision-customvision) (0.6.1)\r\n",
      "Requirement already satisfied: requests~=2.16 in /opt/homebrew/Caskroom/miniforge/base/lib/python3.10/site-packages (from msrest>=0.5.0->azure-cognitiveservices-vision-customvision) (2.28.2)\r\n",
      "Requirement already satisfied: six in /opt/homebrew/Caskroom/miniforge/base/lib/python3.10/site-packages (from isodate>=0.6.0->msrest>=0.5.0->azure-cognitiveservices-vision-customvision) (1.16.0)\r\n",
      "Requirement already satisfied: idna<4,>=2.5 in /opt/homebrew/Caskroom/miniforge/base/lib/python3.10/site-packages (from requests~=2.16->msrest>=0.5.0->azure-cognitiveservices-vision-customvision) (3.4)\r\n",
      "Requirement already satisfied: urllib3<1.27,>=1.21.1 in /opt/homebrew/Caskroom/miniforge/base/lib/python3.10/site-packages (from requests~=2.16->msrest>=0.5.0->azure-cognitiveservices-vision-customvision) (1.26.15)\r\n",
      "Requirement already satisfied: charset-normalizer<4,>=2 in /opt/homebrew/Caskroom/miniforge/base/lib/python3.10/site-packages (from requests~=2.16->msrest>=0.5.0->azure-cognitiveservices-vision-customvision) (3.1.0)\r\n",
      "Requirement already satisfied: oauthlib>=3.0.0 in /opt/homebrew/Caskroom/miniforge/base/lib/python3.10/site-packages (from requests-oauthlib>=0.5.0->msrest>=0.5.0->azure-cognitiveservices-vision-customvision) (3.2.2)\r\n"
     ]
    }
   ],
   "source": [
    "!pip install azure-cognitiveservices-vision-customvision"
   ]
  },
  {
   "cell_type": "code",
   "execution_count": 8,
   "id": "63ff7038",
   "metadata": {},
   "outputs": [],
   "source": [
    "import os\n",
    "import time\n",
    "import uuid\n",
    "\n",
    "from azure.cognitiveservices.vision.customvision.training import CustomVisionTrainingClient\n",
    "from azure.cognitiveservices.vision.customvision.prediction import CustomVisionPredictionClient\n",
    "from azure.cognitiveservices.vision.customvision.training.models import ImageFileCreateBatch, ImageFileCreateEntry, Region\n",
    "from msrest.authentication import ApiKeyCredentials"
   ]
  },
  {
   "cell_type": "markdown",
   "id": "bafeda7b",
   "metadata": {},
   "source": [
    "#### Define identifiers used to access Azure Custom Vision services"
   ]
  },
  {
   "cell_type": "code",
   "execution_count": 9,
   "id": "77fbe9a0",
   "metadata": {},
   "outputs": [],
   "source": [
    "TRAIN_ENDPOINT = \"https://flowerbot002.cognitiveservices.azure.com/\"\n",
    "training_key = \"1d95ce065a9143ceb60056449993147a\"\n",
    "PREDICT_ENDPOINT = \"https://flowerbot002-prediction.cognitiveservices.azure.com/\"\n",
    "prediction_key = \"395816cd19174d6a91be4ee588053fee\"\n",
    "prediction_resource_id = \"/subscriptions/55f090ce-963c-4515-a48f-58da5dc82243/resourceGroups/flowerbot/providers/Microsoft.CognitiveServices/accounts/flowerbot-Prediction\""
   ]
  },
  {
   "cell_type": "markdown",
   "id": "8adfdcb1",
   "metadata": {},
   "source": [
    "#### Define variables used to access Azure Custom Vision services"
   ]
  },
  {
   "cell_type": "code",
   "execution_count": 10,
   "id": "9fe03a89",
   "metadata": {},
   "outputs": [],
   "source": [
    "credentials = ApiKeyCredentials(in_headers={\"Training-key\": training_key})\n",
    "trainer = CustomVisionTrainingClient(TRAIN_ENDPOINT, credentials)\n",
    "prediction_credentials = ApiKeyCredentials(in_headers={\"Prediction-key\": prediction_key})\n",
    "predictor = CustomVisionPredictionClient(PREDICT_ENDPOINT, prediction_credentials)"
   ]
  },
  {
   "cell_type": "markdown",
   "id": "4052596d",
   "metadata": {},
   "source": [
    "#### Create a new Custom Vision project"
   ]
  },
  {
   "cell_type": "code",
   "execution_count": 11,
   "id": "a71312ba",
   "metadata": {},
   "outputs": [
    {
     "name": "stdout",
     "output_type": "stream",
     "text": [
      "Creating project flowerbot-8be0259d-9193-4fb5-a902-10ef62840711\n"
     ]
    }
   ],
   "source": [
    "# Find the object detection domain\n",
    "object_detection_domain = next(domain for domain in trainer.get_domains() if domain.type == \"ObjectDetection\" and domain.name == \"General\")\n",
    "\n",
    "# Append a UUID to avoid project name collisions.\n",
    "publish_iteration_name = \"flowerbot-\" + str(uuid.uuid4())\n",
    "\n",
    "print(\"Creating project\", publish_iteration_name)\n",
    "project = trainer.create_project(publish_iteration_name, domain_id=object_detection_domain.id)"
   ]
  },
  {
   "cell_type": "code",
   "execution_count": 39,
   "id": "420b1a94",
   "metadata": {},
   "outputs": [
    {
     "name": "stdout",
     "output_type": "stream",
     "text": [
      "5478e771-8f36-4b82-a455-9bc728158288\n"
     ]
    }
   ],
   "source": [
    "print(project.id)"
   ]
  },
  {
   "cell_type": "markdown",
   "id": "37121097",
   "metadata": {},
   "source": [
    "#### Register tags for the Custom Vision project"
   ]
  },
  {
   "cell_type": "code",
   "execution_count": 12,
   "id": "2113e33d",
   "metadata": {},
   "outputs": [],
   "source": [
    "tag_names = [\n",
    "    'astilbe',\n",
    "    'bellflower',\n",
    "    'black_eyed_susan',\n",
    "    'calendula',\n",
    "    'california_poppy',\n",
    "    'carnation',\n",
    "    'common_daisy',\n",
    "    'coreopsis',\n",
    "    'daffodil',\n",
    "    'dandelion',\n",
    "    'iris',\n",
    "    'magnolia',\n",
    "    'rose',\n",
    "    'sunflower',\n",
    "    'tulip',\n",
    "    'water_lily'\n",
    "]"
   ]
  },
  {
   "cell_type": "code",
   "execution_count": 13,
   "id": "5db1b555",
   "metadata": {},
   "outputs": [],
   "source": [
    "tag_id = {}\n",
    "for tag in tag_names:\n",
    "    tag_id[tag] = trainer.create_tag(project.id, tag)"
   ]
  },
  {
   "cell_type": "markdown",
   "id": "bef920c1",
   "metadata": {},
   "source": [
    "#### Upload tagged JPEG images\n",
    "\n",
    "The dataset being used is: https://www.kaggle.com/datasets/l3llff/flowers"
   ]
  },
  {
   "cell_type": "code",
   "execution_count": 14,
   "id": "5cccd40c",
   "metadata": {},
   "outputs": [],
   "source": [
    "IMAGE_PATH = '../flowers/'\n",
    "IMAGE_MAX = 100 # images per tag"
   ]
  },
  {
   "cell_type": "code",
   "execution_count": 15,
   "id": "07723c04",
   "metadata": {},
   "outputs": [],
   "source": [
    "from os import walk\n",
    "\n",
    "images = {}\n",
    "for flower in tag_names:\n",
    "    path = IMAGE_PATH + flower\n",
    "    for (_, dirnames, filenames) in walk(path):\n",
    "        images[flower] = filenames[0:IMAGE_MAX]"
   ]
  },
  {
   "cell_type": "markdown",
   "id": "143947d9",
   "metadata": {},
   "source": [
    "#### Upload the files to the project, associating each with a tag\n",
    "\n",
    "These form the basis of our training data and associated the files with tags."
   ]
  },
  {
   "cell_type": "code",
   "execution_count": 16,
   "id": "63800a49",
   "metadata": {},
   "outputs": [],
   "source": [
    "def upload_batch(images, count, total):\n",
    "    print('Uploading %d images (%d/%d)' % (len(images), count, total))\n",
    "    batch = ImageFileCreateBatch(images=images)\n",
    "    result = trainer.create_images_from_files(project.id, batch)\n",
    "    if result.is_batch_successful:\n",
    "        print('Upload completed.')\n",
    "    else:\n",
    "        print(\"Image batch upload failed.\")\n",
    "        for image in result.images:\n",
    "            print(\"Image status: \", image.status)\n",
    "        exit(-1)"
   ]
  },
  {
   "cell_type": "code",
   "execution_count": null,
   "id": "903a030f",
   "metadata": {},
   "outputs": [],
   "source": [
    "batch_size = 64\n",
    "complete = False\n",
    "count = 0\n",
    "total = len(tag_names) * IMAGE_MAX\n",
    "\n",
    "print(\"Adding\", total, \"images in batches of\", batch_size)\n",
    "\n",
    "tagged_images = []\n",
    "for flower in images.keys():\n",
    "    for imagefile in images[flower]:\n",
    "        filename = IMAGE_PATH + flower + '/' + imagefile\n",
    "        with open(filename, mode=\"rb\") as image:\n",
    "            tagid = [tag_id[flower].id]\n",
    "            entry = ImageFileCreateEntry(name=imagefile, contents=image.read(), tag_ids=tagid)\n",
    "            tagged_images.append(entry)\n",
    "        count += 1\n",
    "        if count % batch_size == 0:\n",
    "            upload_batch(tagged_images, count, total)\n",
    "            tagged_images.clear()\n",
    "\n",
    "if len(tagged_images) > 0:\n",
    "    upload_batch(tagged_images, count, total)"
   ]
  },
  {
   "cell_type": "markdown",
   "id": "32655b50",
   "metadata": {},
   "source": [
    "#### Train an iteration of the project, creating a new prediction model"
   ]
  },
  {
   "cell_type": "code",
   "execution_count": null,
   "id": "3070c900",
   "metadata": {
    "scrolled": true
   },
   "outputs": [],
   "source": [
    "print (\"Training...\")\n",
    "iteration = trainer.train_project(project.id)\n",
    "while (iteration.status != \"Completed\"):\n",
    "    iteration = trainer.get_iteration(project.id, iteration.id)\n",
    "    print (\"Training status: \" + iteration.status)\n",
    "    time.sleep(60)"
   ]
  },
  {
   "cell_type": "markdown",
   "id": "6f8215e5",
   "metadata": {},
   "source": [
    "#### The iteration is now trained, publish it to the project endpoint"
   ]
  },
  {
   "cell_type": "code",
   "execution_count": 51,
   "id": "05bc84d6",
   "metadata": {},
   "outputs": [
    {
     "name": "stdout",
     "output_type": "stream",
     "text": [
      "Done!\n"
     ]
    }
   ],
   "source": [
    "trainer.publish_iteration(project.id, iteration.id, publish_iteration_name, prediction_resource_id)\n",
    "print (\"Done!\")"
   ]
  },
  {
   "cell_type": "markdown",
   "id": "189d4c68",
   "metadata": {},
   "source": [
    "## Test the Image Classification Model"
   ]
  },
  {
   "cell_type": "code",
   "execution_count": 36,
   "id": "86d04bd6",
   "metadata": {},
   "outputs": [],
   "source": [
    "from azure.cognitiveservices.vision.customvision.prediction import CustomVisionPredictionClient\n",
    "from msrest.authentication import ApiKeyCredentials"
   ]
  },
  {
   "cell_type": "code",
   "execution_count": 37,
   "id": "fd189132",
   "metadata": {},
   "outputs": [],
   "source": [
    "PREDICT_ENDPOINT = \"https://flowerbot002-prediction.cognitiveservices.azure.com/\"\n",
    "prediction_key = \"395816cd19174d6a91be4ee588053fee\"\n",
    "prediction_resource_id = \"/subscriptions/55f090ce-963c-4515-a48f-58da5dc82243/resourceGroups/flowerbot/providers/Microsoft.CognitiveServices/accounts/flowerbot-Prediction\""
   ]
  },
  {
   "cell_type": "code",
   "execution_count": 38,
   "id": "512cb586",
   "metadata": {},
   "outputs": [],
   "source": [
    "prediction_credentials = ApiKeyCredentials(in_headers={\"Prediction-key\": prediction_key})\n",
    "predictor = CustomVisionPredictionClient(PREDICT_ENDPOINT, prediction_credentials)"
   ]
  },
  {
   "cell_type": "markdown",
   "id": "3494d409",
   "metadata": {},
   "source": [
    "#### Test the prediction service using an image file"
   ]
  },
  {
   "cell_type": "code",
   "execution_count": null,
   "id": "479c250a",
   "metadata": {},
   "outputs": [],
   "source": [
    "import os\n",
    "import time\n",
    "\n",
    "project_id = '5478e771-8f36-4b82-a455-9bc728158288'\n",
    "publish_iteration_name = 'flowerbot-8be0259d-9193-4fb5-a902-10ef62840711'\n",
    "print('Project', project_id, 'iteration', publish_iteration_name)\n",
    "\n",
    "# Open the sample image and get back the prediction results.\n",
    "with open(os.path.join(\"images\", \"rose.jpg\"), mode=\"rb\") as test_data:\n",
    "    t0 = time.time()\n",
    "    results = predictor.detect_image(project_id, publish_iteration_name, test_data)\n",
    "    t1 = time.time()\n",
    "    print('Prediction elapsed time:', t1 - t0)\n",
    "\n",
    "# Display the results.    \n",
    "for prediction in results.predictions:\n",
    "    print(\"\\t\" + prediction.tag_name)"
   ]
  },
  {
   "cell_type": "markdown",
   "id": "c9b5aa5b",
   "metadata": {},
   "source": [
    "## Test the Recommendation Service Model\n",
    "\n",
    "See also the data/ directory scripts which create and train this model using the command line."
   ]
  },
  {
   "cell_type": "code",
   "execution_count": 6,
   "id": "099b5448",
   "metadata": {},
   "outputs": [
    {
     "name": "stdout",
     "output_type": "stream",
     "text": [
      "b'[{\"recommendedItemId\":\"p00011\",\"score\":0.0},{\"recommendedItemId\":\"p00015\",\"score\":0.0},{\"recommendedItemId\":\"p00013\",\"score\":0.0},{\"recommendedItemId\":\"p00012\",\"score\":0.0},{\"recommendedItemId\":\"p00006\",\"score\":0.0},{\"recommendedItemId\":\"p00009\",\"score\":0.0},{\"recommendedItemId\":\"p00014\",\"score\":0.0},{\"recommendedItemId\":\"p00002\",\"score\":0.0},{\"recommendedItemId\":\"p00008\",\"score\":0.0},{\"recommendedItemId\":\"p00004\",\"score\":0.0}]'\n"
     ]
    }
   ],
   "source": [
    "import os\n",
    "import json\n",
    "from urllib import parse, request\n",
    "\n",
    "SERVICE=\"flowerbotyrpafrhf6sreews\"\n",
    "APIKEY=\"YWs2NXp1ZTRqaXh3aQ==\"\n",
    "MODEL=\"ebd580dc-6954-4fe0-ac13-fdc45bb22f88\"\n",
    "ITEM=\"P00013\"\n",
    "\n",
    "url = 'https://' + SERVICE + '.azurewebsites.net/api/models/' + MODEL + '/recommend'\n",
    "post = { 'itemId': ITEM }\n",
    "\n",
    "data = parse.urlencode(post).encode()\n",
    "req  = request.Request(url, data=data) # this will make the method \"POST\"\n",
    "req.add_header('Content-Type', 'application/json')\n",
    "req.add_header('x-api-key', APIKEY)\n",
    "\n",
    "resp = request.urlopen(req)\n",
    "content = resp.read()\n",
    "print(content)"
   ]
  },
  {
   "cell_type": "code",
   "execution_count": null,
   "id": "30a6c559",
   "metadata": {},
   "outputs": [],
   "source": []
  }
 ],
 "metadata": {
  "kernelspec": {
   "display_name": "Python 3 (ipykernel)",
   "language": "python",
   "name": "python3"
  },
  "language_info": {
   "codemirror_mode": {
    "name": "ipython",
    "version": 3
   },
   "file_extension": ".py",
   "mimetype": "text/x-python",
   "name": "python",
   "nbconvert_exporter": "python",
   "pygments_lexer": "ipython3",
   "version": "3.9.6"
  }
 },
 "nbformat": 4,
 "nbformat_minor": 5
}
